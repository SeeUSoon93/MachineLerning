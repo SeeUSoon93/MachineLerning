{
 "cells": [
  {
   "cell_type": "markdown",
   "id": "e5d65433",
   "metadata": {},
   "source": [
    "## Linear Regression"
   ]
  },
  {
   "cell_type": "markdown",
   "id": "21d48763",
   "metadata": {},
   "source": [
    "### 공부 시간에 따른 시험 점수 예측"
   ]
  },
  {
   "cell_type": "code",
   "execution_count": 1,
   "id": "317c962e",
   "metadata": {},
   "outputs": [],
   "source": [
    "# 라이브러리 로딩\n",
    "import pandas as pd\n",
    "import matplotlib.pyplot as plt\n",
    "\n",
    "#글꼴 설정\n",
    "plt.rcParams['font.family'] = 'Malgun Gothic'\n",
    "\n",
    "from sklearn.linear_model import LinearRegression\n",
    "from sklearn.metrics import mean_squared_error"
   ]
  },
  {
   "cell_type": "code",
   "execution_count": 2,
   "id": "30ff22bb",
   "metadata": {},
   "outputs": [
    {
     "data": {
      "text/html": [
       "<div>\n",
       "<style scoped>\n",
       "    .dataframe tbody tr th:only-of-type {\n",
       "        vertical-align: middle;\n",
       "    }\n",
       "\n",
       "    .dataframe tbody tr th {\n",
       "        vertical-align: top;\n",
       "    }\n",
       "\n",
       "    .dataframe thead th {\n",
       "        text-align: right;\n",
       "    }\n",
       "</style>\n",
       "<table border=\"1\" class=\"dataframe\">\n",
       "  <thead>\n",
       "    <tr style=\"text-align: right;\">\n",
       "      <th></th>\n",
       "      <th>hour</th>\n",
       "      <th>score</th>\n",
       "    </tr>\n",
       "  </thead>\n",
       "  <tbody>\n",
       "    <tr>\n",
       "      <th>0</th>\n",
       "      <td>0.5</td>\n",
       "      <td>10</td>\n",
       "    </tr>\n",
       "    <tr>\n",
       "      <th>1</th>\n",
       "      <td>1.2</td>\n",
       "      <td>8</td>\n",
       "    </tr>\n",
       "    <tr>\n",
       "      <th>2</th>\n",
       "      <td>1.8</td>\n",
       "      <td>14</td>\n",
       "    </tr>\n",
       "    <tr>\n",
       "      <th>3</th>\n",
       "      <td>2.4</td>\n",
       "      <td>26</td>\n",
       "    </tr>\n",
       "    <tr>\n",
       "      <th>4</th>\n",
       "      <td>2.6</td>\n",
       "      <td>22</td>\n",
       "    </tr>\n",
       "    <tr>\n",
       "      <th>5</th>\n",
       "      <td>3.2</td>\n",
       "      <td>30</td>\n",
       "    </tr>\n",
       "    <tr>\n",
       "      <th>6</th>\n",
       "      <td>3.9</td>\n",
       "      <td>42</td>\n",
       "    </tr>\n",
       "    <tr>\n",
       "      <th>7</th>\n",
       "      <td>4.4</td>\n",
       "      <td>48</td>\n",
       "    </tr>\n",
       "    <tr>\n",
       "      <th>8</th>\n",
       "      <td>4.5</td>\n",
       "      <td>38</td>\n",
       "    </tr>\n",
       "    <tr>\n",
       "      <th>9</th>\n",
       "      <td>5.0</td>\n",
       "      <td>58</td>\n",
       "    </tr>\n",
       "    <tr>\n",
       "      <th>10</th>\n",
       "      <td>5.3</td>\n",
       "      <td>60</td>\n",
       "    </tr>\n",
       "    <tr>\n",
       "      <th>11</th>\n",
       "      <td>5.8</td>\n",
       "      <td>72</td>\n",
       "    </tr>\n",
       "    <tr>\n",
       "      <th>12</th>\n",
       "      <td>6.0</td>\n",
       "      <td>62</td>\n",
       "    </tr>\n",
       "    <tr>\n",
       "      <th>13</th>\n",
       "      <td>6.1</td>\n",
       "      <td>68</td>\n",
       "    </tr>\n",
       "    <tr>\n",
       "      <th>14</th>\n",
       "      <td>6.2</td>\n",
       "      <td>72</td>\n",
       "    </tr>\n",
       "    <tr>\n",
       "      <th>15</th>\n",
       "      <td>6.9</td>\n",
       "      <td>58</td>\n",
       "    </tr>\n",
       "    <tr>\n",
       "      <th>16</th>\n",
       "      <td>7.2</td>\n",
       "      <td>76</td>\n",
       "    </tr>\n",
       "    <tr>\n",
       "      <th>17</th>\n",
       "      <td>8.4</td>\n",
       "      <td>86</td>\n",
       "    </tr>\n",
       "    <tr>\n",
       "      <th>18</th>\n",
       "      <td>8.6</td>\n",
       "      <td>90</td>\n",
       "    </tr>\n",
       "    <tr>\n",
       "      <th>19</th>\n",
       "      <td>10.0</td>\n",
       "      <td>100</td>\n",
       "    </tr>\n",
       "  </tbody>\n",
       "</table>\n",
       "</div>"
      ],
      "text/plain": [
       "    hour  score\n",
       "0    0.5     10\n",
       "1    1.2      8\n",
       "2    1.8     14\n",
       "3    2.4     26\n",
       "4    2.6     22\n",
       "5    3.2     30\n",
       "6    3.9     42\n",
       "7    4.4     48\n",
       "8    4.5     38\n",
       "9    5.0     58\n",
       "10   5.3     60\n",
       "11   5.8     72\n",
       "12   6.0     62\n",
       "13   6.1     68\n",
       "14   6.2     72\n",
       "15   6.9     58\n",
       "16   7.2     76\n",
       "17   8.4     86\n",
       "18   8.6     90\n",
       "19  10.0    100"
      ]
     },
     "execution_count": 2,
     "metadata": {},
     "output_type": "execute_result"
    }
   ],
   "source": [
    "# 데이터 불러오기\n",
    "data = pd.read_csv('LinearRegressionData.csv')\n",
    "data"
   ]
  },
  {
   "cell_type": "code",
   "execution_count": 3,
   "id": "6af1a6e1",
   "metadata": {},
   "outputs": [
    {
     "data": {
      "text/plain": [
       "(20, 2)"
      ]
     },
     "execution_count": 3,
     "metadata": {},
     "output_type": "execute_result"
    }
   ],
   "source": [
    "# 데이터 크기/모양 확인하기\n",
    "data.shape"
   ]
  },
  {
   "cell_type": "code",
   "execution_count": 4,
   "id": "49f60387",
   "metadata": {},
   "outputs": [],
   "source": [
    "# 문제(X)와 답(y)데이터로 분리\n",
    "X = data.iloc[ : ,[0]] # 2차원데이터\n",
    "y = data.iloc[ : ,1]"
   ]
  },
  {
   "cell_type": "code",
   "execution_count": 5,
   "id": "5431e194",
   "metadata": {},
   "outputs": [],
   "source": [
    "# 선형회귀 모델 생성\n",
    "lr = LinearRegression()"
   ]
  },
  {
   "cell_type": "code",
   "execution_count": 6,
   "id": "c2515ee5",
   "metadata": {},
   "outputs": [
    {
     "data": {
      "text/html": [
       "<style>#sk-container-id-1 {color: black;background-color: white;}#sk-container-id-1 pre{padding: 0;}#sk-container-id-1 div.sk-toggleable {background-color: white;}#sk-container-id-1 label.sk-toggleable__label {cursor: pointer;display: block;width: 100%;margin-bottom: 0;padding: 0.3em;box-sizing: border-box;text-align: center;}#sk-container-id-1 label.sk-toggleable__label-arrow:before {content: \"▸\";float: left;margin-right: 0.25em;color: #696969;}#sk-container-id-1 label.sk-toggleable__label-arrow:hover:before {color: black;}#sk-container-id-1 div.sk-estimator:hover label.sk-toggleable__label-arrow:before {color: black;}#sk-container-id-1 div.sk-toggleable__content {max-height: 0;max-width: 0;overflow: hidden;text-align: left;background-color: #f0f8ff;}#sk-container-id-1 div.sk-toggleable__content pre {margin: 0.2em;color: black;border-radius: 0.25em;background-color: #f0f8ff;}#sk-container-id-1 input.sk-toggleable__control:checked~div.sk-toggleable__content {max-height: 200px;max-width: 100%;overflow: auto;}#sk-container-id-1 input.sk-toggleable__control:checked~label.sk-toggleable__label-arrow:before {content: \"▾\";}#sk-container-id-1 div.sk-estimator input.sk-toggleable__control:checked~label.sk-toggleable__label {background-color: #d4ebff;}#sk-container-id-1 div.sk-label input.sk-toggleable__control:checked~label.sk-toggleable__label {background-color: #d4ebff;}#sk-container-id-1 input.sk-hidden--visually {border: 0;clip: rect(1px 1px 1px 1px);clip: rect(1px, 1px, 1px, 1px);height: 1px;margin: -1px;overflow: hidden;padding: 0;position: absolute;width: 1px;}#sk-container-id-1 div.sk-estimator {font-family: monospace;background-color: #f0f8ff;border: 1px dotted black;border-radius: 0.25em;box-sizing: border-box;margin-bottom: 0.5em;}#sk-container-id-1 div.sk-estimator:hover {background-color: #d4ebff;}#sk-container-id-1 div.sk-parallel-item::after {content: \"\";width: 100%;border-bottom: 1px solid gray;flex-grow: 1;}#sk-container-id-1 div.sk-label:hover label.sk-toggleable__label {background-color: #d4ebff;}#sk-container-id-1 div.sk-serial::before {content: \"\";position: absolute;border-left: 1px solid gray;box-sizing: border-box;top: 0;bottom: 0;left: 50%;z-index: 0;}#sk-container-id-1 div.sk-serial {display: flex;flex-direction: column;align-items: center;background-color: white;padding-right: 0.2em;padding-left: 0.2em;position: relative;}#sk-container-id-1 div.sk-item {position: relative;z-index: 1;}#sk-container-id-1 div.sk-parallel {display: flex;align-items: stretch;justify-content: center;background-color: white;position: relative;}#sk-container-id-1 div.sk-item::before, #sk-container-id-1 div.sk-parallel-item::before {content: \"\";position: absolute;border-left: 1px solid gray;box-sizing: border-box;top: 0;bottom: 0;left: 50%;z-index: -1;}#sk-container-id-1 div.sk-parallel-item {display: flex;flex-direction: column;z-index: 1;position: relative;background-color: white;}#sk-container-id-1 div.sk-parallel-item:first-child::after {align-self: flex-end;width: 50%;}#sk-container-id-1 div.sk-parallel-item:last-child::after {align-self: flex-start;width: 50%;}#sk-container-id-1 div.sk-parallel-item:only-child::after {width: 0;}#sk-container-id-1 div.sk-dashed-wrapped {border: 1px dashed gray;margin: 0 0.4em 0.5em 0.4em;box-sizing: border-box;padding-bottom: 0.4em;background-color: white;}#sk-container-id-1 div.sk-label label {font-family: monospace;font-weight: bold;display: inline-block;line-height: 1.2em;}#sk-container-id-1 div.sk-label-container {text-align: center;}#sk-container-id-1 div.sk-container {/* jupyter's `normalize.less` sets `[hidden] { display: none; }` but bootstrap.min.css set `[hidden] { display: none !important; }` so we also need the `!important` here to be able to override the default hidden behavior on the sphinx rendered scikit-learn.org. See: https://github.com/scikit-learn/scikit-learn/issues/21755 */display: inline-block !important;position: relative;}#sk-container-id-1 div.sk-text-repr-fallback {display: none;}</style><div id=\"sk-container-id-1\" class=\"sk-top-container\"><div class=\"sk-text-repr-fallback\"><pre>LinearRegression()</pre><b>In a Jupyter environment, please rerun this cell to show the HTML representation or trust the notebook. <br />On GitHub, the HTML representation is unable to render, please try loading this page with nbviewer.org.</b></div><div class=\"sk-container\" hidden><div class=\"sk-item\"><div class=\"sk-estimator sk-toggleable\"><input class=\"sk-toggleable__control sk-hidden--visually\" id=\"sk-estimator-id-1\" type=\"checkbox\" checked><label for=\"sk-estimator-id-1\" class=\"sk-toggleable__label sk-toggleable__label-arrow\">LinearRegression</label><div class=\"sk-toggleable__content\"><pre>LinearRegression()</pre></div></div></div></div></div>"
      ],
      "text/plain": [
       "LinearRegression()"
      ]
     },
     "execution_count": 6,
     "metadata": {},
     "output_type": "execute_result"
    }
   ],
   "source": [
    "# 학습\n",
    "lr.fit(X,y)"
   ]
  },
  {
   "cell_type": "code",
   "execution_count": 7,
   "id": "fffec638",
   "metadata": {},
   "outputs": [
    {
     "data": {
      "text/plain": [
       "array([  5.00336377,  12.31395163,  18.58016979,  24.84638795,\n",
       "        26.93512734,  33.20134551,  40.51193337,  45.73378184,\n",
       "        46.77815153,  52.        ,  55.13310908,  60.35495755,\n",
       "        62.44369694,  63.48806663,  64.53243633,  71.84302419,\n",
       "        74.97613327,  87.5085696 ,  89.59730899, 104.2184847 ])"
      ]
     },
     "execution_count": 7,
     "metadata": {},
     "output_type": "execute_result"
    }
   ],
   "source": [
    "# 예측(X값으로 예측)\n",
    "pre = lr.predict(X)\n",
    "pre"
   ]
  },
  {
   "cell_type": "code",
   "execution_count": 8,
   "id": "3bc60574",
   "metadata": {},
   "outputs": [
    {
     "data": {
      "image/png": "[encoded data removed]",
      "text/plain": [
       "<Figure size 640x480 with 1 Axes>"
      ]
     },
     "metadata": {},
     "output_type": "display_data"
    }
   ],
   "source": [
    "# 선형회귀 시각화\n",
    "# 데이터를 산점도 그래프로 나타내기\n",
    "plt.scatter(X,y, color=\"blue\")\n",
    "\n",
    "# 우리가 예측한 답을 가지고 선그래프 그리기\n",
    "plt.plot(X,pre, color = 'green')\n",
    "# 차트 제목\n",
    "plt.title(\"시간에 따른 시험성적\")\n",
    "plt.xlabel('시간')\n",
    "plt.ylabel('점수')\n",
    "plt.show()"
   ]
  },
  {
   "cell_type": "code",
   "execution_count": 9,
   "id": "0fd11cac",
   "metadata": {},
   "outputs": [
    {
     "name": "stderr",
     "output_type": "stream",
     "text": [
      "C:\\Users\\SeeUSoon\\anaconda3\\Lib\\site-packages\\sklearn\\base.py:439: UserWarning: X does not have valid feature names, but LinearRegression was fitted with feature names\n",
      "  warnings.warn(\n"
     ]
    },
    {
     "data": {
      "text/plain": [
       "array([93.77478776])"
      ]
     },
     "execution_count": 9,
     "metadata": {},
     "output_type": "execute_result"
    }
   ],
   "source": [
    "# 9시간 공부 했을 때 예상 점수\n",
    "lr.predict([[9]])"
   ]
  },
  {
   "cell_type": "code",
   "execution_count": 24,
   "id": "8d3df65c",
   "metadata": {},
   "outputs": [
    {
     "data": {
      "text/plain": [
       "33.470959474611576"
      ]
     },
     "execution_count": 24,
     "metadata": {},
     "output_type": "execute_result"
    }
   ],
   "source": [
    "# 평균제곱오차(MSE)\n",
    "mse = mean_squared_error(y,pre)\n",
    "mse"
   ]
  },
  {
   "cell_type": "code",
   "execution_count": 25,
   "id": "135f0243",
   "metadata": {},
   "outputs": [
    {
     "data": {
      "text/plain": [
       "5.785409188174297"
      ]
     },
     "execution_count": 25,
     "metadata": {},
     "output_type": "execute_result"
    }
   ],
   "source": [
    "mse ** 0.5"
   ]
  },
  {
   "cell_type": "markdown",
   "id": "130773b5",
   "metadata": {},
   "source": [
    "h(x) = w*x + b"
   ]
  },
  {
   "cell_type": "code",
   "execution_count": 11,
   "id": "17d47dfe",
   "metadata": {},
   "outputs": [
    {
     "data": {
      "text/plain": [
       "array([10.44369694])"
      ]
     },
     "execution_count": 11,
     "metadata": {},
     "output_type": "execute_result"
    }
   ],
   "source": [
    "# 가중치(weight) / 선형계수 알아보기\n",
    "# 모델명.coef_\n",
    "lr.coef_"
   ]
  },
  {
   "cell_type": "code",
   "execution_count": 12,
   "id": "51f8f50d",
   "metadata": {},
   "outputs": [
    {
     "data": {
      "text/plain": [
       "-0.21848470286721522"
      ]
     },
     "execution_count": 12,
     "metadata": {},
     "output_type": "execute_result"
    }
   ],
   "source": [
    "# 편향(bias)\n",
    "# 모델명.intercept_\n",
    "lr.intercept_"
   ]
  },
  {
   "cell_type": "markdown",
   "id": "dc033d53",
   "metadata": {},
   "source": [
    "### 경사하강법\n",
    "- 가중치(w)변화에 따른 비용/손실함수 값의 변화 그래프"
   ]
  },
  {
   "cell_type": "markdown",
   "id": "9fe86ee6",
   "metadata": {},
   "source": [
    "h(x) = w*x +b"
   ]
  },
  {
   "cell_type": "code",
   "execution_count": 13,
   "id": "d0fc08b0",
   "metadata": {},
   "outputs": [],
   "source": [
    "def h(w,x) : # 가설함수\n",
    "    return w * x + 0"
   ]
  },
  {
   "cell_type": "markdown",
   "id": "a3d3ca97",
   "metadata": {},
   "source": [
    "### 비용/손실 함수\n",
    "- cost function / loss function"
   ]
  },
  {
   "cell_type": "code",
   "execution_count": 14,
   "id": "6ca3c94e",
   "metadata": {},
   "outputs": [],
   "source": [
    "def cost(data, target, weight):\n",
    "    y_pre = h(weight, data)    \n",
    "    return ((target-y_pre)**2).mean()"
   ]
  },
  {
   "cell_type": "code",
   "execution_count": 15,
   "id": "450981f8",
   "metadata": {},
   "outputs": [
    {
     "data": {
      "text/plain": [
       "38.7"
      ]
     },
     "execution_count": 15,
     "metadata": {},
     "output_type": "execute_result"
    }
   ],
   "source": [
    "# 입력변수 data와 target의 자료형을 시리즈 형태로 통일\n",
    "cost(X['hour'],y,10)"
   ]
  },
  {
   "cell_type": "code",
   "execution_count": 16,
   "id": "f4bf0307",
   "metadata": {},
   "outputs": [
    {
     "data": {
      "text/plain": [
       "112.59200000000006"
      ]
     },
     "execution_count": 16,
     "metadata": {},
     "output_type": "execute_result"
    }
   ],
   "source": [
    "cost(X['hour'],y,12)"
   ]
  },
  {
   "cell_type": "code",
   "execution_count": 17,
   "id": "e3b5cba1",
   "metadata": {},
   "outputs": [
    {
     "data": {
      "text/plain": [
       "[380888.4,\n",
       " 374020.643,\n",
       " 367215.372,\n",
       " 360472.58699999994,\n",
       " 353792.288,\n",
       " 347174.475,\n",
       " 340619.148,\n",
       " 334126.30700000003,\n",
       " 327695.95199999993,\n",
       " 321328.083,\n",
       " 315022.7,\n",
       " 308779.803,\n",
       " 302599.392,\n",
       " 296481.467,\n",
       " 290426.028,\n",
       " 284433.075,\n",
       " 278502.608,\n",
       " 272634.627,\n",
       " 266829.132,\n",
       " 261086.123,\n",
       " 255405.6,\n",
       " 249787.56300000002,\n",
       " 244232.01200000002,\n",
       " 238738.94700000001,\n",
       " 233308.36799999996,\n",
       " 227940.275,\n",
       " 222634.668,\n",
       " 217391.54700000002,\n",
       " 212210.912,\n",
       " 207092.76299999998,\n",
       " 202037.1,\n",
       " 197043.923,\n",
       " 192113.232,\n",
       " 187245.027,\n",
       " 182439.30800000002,\n",
       " 177696.075,\n",
       " 173015.328,\n",
       " 168397.06699999998,\n",
       " 163841.292,\n",
       " 159348.003,\n",
       " 154917.2,\n",
       " 150548.88299999997,\n",
       " 146243.052,\n",
       " 141999.707,\n",
       " 137818.84800000003,\n",
       " 133700.475,\n",
       " 129644.58799999999,\n",
       " 125651.187,\n",
       " 121720.27200000003,\n",
       " 117851.84300000002,\n",
       " 114045.9,\n",
       " 110302.443,\n",
       " 106621.472,\n",
       " 103002.987,\n",
       " 99446.98799999998,\n",
       " 95953.475,\n",
       " 92522.448,\n",
       " 89153.907,\n",
       " 85847.852,\n",
       " 82604.283,\n",
       " 79423.2,\n",
       " 76304.60299999999,\n",
       " 73248.492,\n",
       " 70254.867,\n",
       " 67323.728,\n",
       " 64455.075,\n",
       " 61648.90800000001,\n",
       " 58905.22699999999,\n",
       " 56224.03199999999,\n",
       " 53605.323,\n",
       " 51049.1,\n",
       " 48555.363,\n",
       " 46124.112,\n",
       " 43755.346999999994,\n",
       " 41449.06800000001,\n",
       " 39205.275,\n",
       " 37023.96799999999,\n",
       " 34905.147,\n",
       " 32848.812,\n",
       " 30854.963000000007,\n",
       " 28923.6,\n",
       " 27054.722999999998,\n",
       " 25248.332000000002,\n",
       " 23504.427000000003,\n",
       " 21823.008,\n",
       " 20204.075,\n",
       " 18647.628,\n",
       " 17153.667,\n",
       " 15722.192000000001,\n",
       " 14353.203000000003,\n",
       " 13046.7,\n",
       " 11802.682999999999,\n",
       " 10621.152,\n",
       " 9502.107,\n",
       " 8445.548,\n",
       " 7451.475,\n",
       " 6519.888000000001,\n",
       " 5650.787,\n",
       " 4844.172,\n",
       " 4100.043,\n",
       " 3418.4,\n",
       " 2799.243,\n",
       " 2242.572,\n",
       " 1748.387,\n",
       " 1316.6879999999999,\n",
       " 947.475,\n",
       " 640.7480000000002,\n",
       " 396.507,\n",
       " 214.75200000000004,\n",
       " 95.48300000000002,\n",
       " 38.7,\n",
       " 44.40300000000001,\n",
       " 112.59200000000006,\n",
       " 243.267,\n",
       " 436.42800000000005,\n",
       " 692.075,\n",
       " 1010.208,\n",
       " 1390.827,\n",
       " 1833.932,\n",
       " 2339.523,\n",
       " 2907.6,\n",
       " 3538.1630000000005,\n",
       " 4231.212,\n",
       " 4986.747,\n",
       " 5804.768,\n",
       " 6685.275,\n",
       " 7628.267999999999,\n",
       " 8633.747,\n",
       " 9701.712,\n",
       " 10832.163,\n",
       " 12025.1,\n",
       " 13280.523000000001,\n",
       " 14598.432,\n",
       " 15978.827,\n",
       " 17421.708,\n",
       " 18927.075,\n",
       " 20494.928,\n",
       " 22125.267,\n",
       " 23818.091999999997,\n",
       " 25573.403,\n",
       " 27391.2,\n",
       " 29271.483,\n",
       " 31214.252,\n",
       " 33219.507,\n",
       " 35287.24800000001,\n",
       " 37417.475,\n",
       " 39610.188,\n",
       " 41865.387,\n",
       " 44183.072,\n",
       " 46563.243,\n",
       " 49005.9,\n",
       " 51511.04299999999,\n",
       " 54078.672,\n",
       " 56708.787,\n",
       " 59401.388,\n",
       " 62156.475,\n",
       " 64974.047999999995,\n",
       " 67854.10699999999,\n",
       " 70796.652,\n",
       " 73801.68299999999,\n",
       " 76869.2,\n",
       " 79999.20300000001,\n",
       " 83191.69200000001,\n",
       " 86446.667,\n",
       " 89764.128,\n",
       " 93144.075,\n",
       " 96586.508,\n",
       " 100091.427,\n",
       " 103658.83200000001,\n",
       " 107288.723,\n",
       " 110981.1,\n",
       " 114735.96299999999,\n",
       " 118553.312,\n",
       " 122433.14700000003,\n",
       " 126375.46800000002,\n",
       " 130380.275,\n",
       " 134447.568,\n",
       " 138577.347,\n",
       " 142769.61200000002,\n",
       " 147024.363,\n",
       " 151341.6,\n",
       " 155721.323,\n",
       " 160163.53200000004,\n",
       " 164668.227,\n",
       " 169235.408,\n",
       " 173865.075,\n",
       " 178557.22800000003,\n",
       " 183311.867,\n",
       " 188128.99200000003,\n",
       " 193008.603,\n",
       " 197950.7,\n",
       " 202955.283,\n",
       " 208022.352,\n",
       " 213151.90700000004,\n",
       " 218343.948,\n",
       " 223598.475,\n",
       " 228915.48799999998,\n",
       " 234294.98700000002,\n",
       " 239736.972,\n",
       " 245241.44299999997,\n",
       " 250808.4]"
      ]
     },
     "execution_count": 17,
     "metadata": {},
     "output_type": "execute_result"
    }
   ],
   "source": [
    "cost_list = []\n",
    "for w in range(-100,101) :\n",
    "    cost_list.append(cost(X['hour'],y,w))\n",
    "cost_list"
   ]
  },
  {
   "cell_type": "code",
   "execution_count": 18,
   "id": "b63dddb0",
   "metadata": {},
   "outputs": [
    {
     "data": {
      "image/png": "[encoded data removed]",
      "text/plain": [
       "<Figure size 640x480 with 1 Axes>"
      ]
     },
     "metadata": {},
     "output_type": "display_data"
    }
   ],
   "source": [
    "# 마이너스 기호가 깨지지 않도록 설정\n",
    "plt.rcParams['axes.unicode_minus']=False\n",
    "\n",
    "plt.plot(range(-100,101), cost_list)\n",
    "plt.xlabel('w 가중치')\n",
    "plt.ylabel('loss 손실')\n",
    "plt.show()"
   ]
  },
  {
   "cell_type": "code",
   "execution_count": null,
   "id": "8c2a9c62",
   "metadata": {},
   "outputs": [],
   "source": []
  },
  {
   "cell_type": "code",
   "execution_count": 19,
   "id": "66410f48",
   "metadata": {},
   "outputs": [],
   "source": [
    "from sklearn.linear_model import SGDRegressor"
   ]
  },
  {
   "cell_type": "code",
   "execution_count": 20,
   "id": "b23b987e",
   "metadata": {},
   "outputs": [],
   "source": [
    "#모델생성\n",
    "sgd_model = SGDRegressor(max_iter = 5000, # w(가중치)업데이트 반복 횟수\n",
    "                         eta0 = 0.1, # 학습률(learning rate)\n",
    "                         verbose = 1) # 학습 과정을 확인할 수 있다"
   ]
  },
  {
   "cell_type": "code",
   "execution_count": 21,
   "id": "43c36160",
   "metadata": {},
   "outputs": [
    {
     "name": "stdout",
     "output_type": "stream",
     "text": [
      "-- Epoch 1\n",
      "Norm: 5.84, NNZs: 1, Bias: -23.306032, T: 20, Avg. loss: 6277.556756\n",
      "Total training time: 0.00 seconds.\n",
      "-- Epoch 2\n",
      "Norm: 15.20, NNZs: 1, Bias: -20.327514, T: 40, Avg. loss: 5002.273678\n",
      "Total training time: 0.00 seconds.\n",
      "-- Epoch 3\n",
      "Norm: 7.12, NNZs: 1, Bias: -18.019261, T: 60, Avg. loss: 231.443806\n",
      "Total training time: 0.00 seconds.\n",
      "-- Epoch 4\n",
      "Norm: 11.01, NNZs: 1, Bias: -15.050972, T: 80, Avg. loss: 114.964003\n",
      "Total training time: 0.00 seconds.\n",
      "-- Epoch 5\n",
      "Norm: 9.61, NNZs: 1, Bias: -12.790453, T: 100, Avg. loss: 117.835892\n",
      "Total training time: 0.00 seconds.\n",
      "-- Epoch 6\n",
      "Norm: 13.51, NNZs: 1, Bias: -10.378893, T: 120, Avg. loss: 105.472875\n",
      "Total training time: 0.00 seconds.\n",
      "-- Epoch 7\n",
      "Norm: 8.27, NNZs: 1, Bias: -9.126510, T: 140, Avg. loss: 116.158384\n",
      "Total training time: 0.00 seconds.\n",
      "-- Epoch 8\n",
      "Norm: 7.78, NNZs: 1, Bias: -7.929974, T: 160, Avg. loss: 57.196098\n",
      "Total training time: 0.00 seconds.\n",
      "-- Epoch 9\n",
      "Norm: 10.12, NNZs: 1, Bias: -7.077904, T: 180, Avg. loss: 81.475384\n",
      "Total training time: 0.00 seconds.\n",
      "-- Epoch 10\n",
      "Norm: 10.88, NNZs: 1, Bias: -6.198305, T: 200, Avg. loss: 67.215181\n",
      "Total training time: 0.00 seconds.\n",
      "-- Epoch 11\n",
      "Norm: 9.67, NNZs: 1, Bias: -6.165249, T: 220, Avg. loss: 34.616152\n",
      "Total training time: 0.00 seconds.\n",
      "-- Epoch 12\n",
      "Norm: 10.07, NNZs: 1, Bias: -5.728145, T: 240, Avg. loss: 44.871454\n",
      "Total training time: 0.00 seconds.\n",
      "-- Epoch 13\n",
      "Norm: 11.14, NNZs: 1, Bias: -4.899006, T: 260, Avg. loss: 43.995852\n",
      "Total training time: 0.00 seconds.\n",
      "-- Epoch 14\n",
      "Norm: 11.71, NNZs: 1, Bias: -4.377987, T: 280, Avg. loss: 32.845729\n",
      "Total training time: 0.00 seconds.\n",
      "-- Epoch 15\n",
      "Norm: 9.45, NNZs: 1, Bias: -4.408451, T: 300, Avg. loss: 21.149600\n",
      "Total training time: 0.00 seconds.\n",
      "-- Epoch 16\n",
      "Norm: 9.81, NNZs: 1, Bias: -4.187013, T: 320, Avg. loss: 33.544083\n",
      "Total training time: 0.00 seconds.\n",
      "-- Epoch 17\n",
      "Norm: 10.52, NNZs: 1, Bias: -3.200713, T: 340, Avg. loss: 54.275075\n",
      "Total training time: 0.00 seconds.\n",
      "-- Epoch 18\n",
      "Norm: 11.58, NNZs: 1, Bias: -2.866379, T: 360, Avg. loss: 38.049022\n",
      "Total training time: 0.00 seconds.\n",
      "-- Epoch 19\n",
      "Norm: 7.78, NNZs: 1, Bias: -2.497929, T: 380, Avg. loss: 41.850572\n",
      "Total training time: 0.00 seconds.\n",
      "-- Epoch 20\n",
      "Norm: 10.16, NNZs: 1, Bias: -1.967194, T: 400, Avg. loss: 45.706775\n",
      "Total training time: 0.00 seconds.\n",
      "Convergence after 20 epochs took 0.00 seconds\n"
     ]
    },
    {
     "data": {
      "text/html": [
       "<style>#sk-container-id-2 {color: black;background-color: white;}#sk-container-id-2 pre{padding: 0;}#sk-container-id-2 div.sk-toggleable {background-color: white;}#sk-container-id-2 label.sk-toggleable__label {cursor: pointer;display: block;width: 100%;margin-bottom: 0;padding: 0.3em;box-sizing: border-box;text-align: center;}#sk-container-id-2 label.sk-toggleable__label-arrow:before {content: \"▸\";float: left;margin-right: 0.25em;color: #696969;}#sk-container-id-2 label.sk-toggleable__label-arrow:hover:before {color: black;}#sk-container-id-2 div.sk-estimator:hover label.sk-toggleable__label-arrow:before {color: black;}#sk-container-id-2 div.sk-toggleable__content {max-height: 0;max-width: 0;overflow: hidden;text-align: left;background-color: #f0f8ff;}#sk-container-id-2 div.sk-toggleable__content pre {margin: 0.2em;color: black;border-radius: 0.25em;background-color: #f0f8ff;}#sk-container-id-2 input.sk-toggleable__control:checked~div.sk-toggleable__content {max-height: 200px;max-width: 100%;overflow: auto;}#sk-container-id-2 input.sk-toggleable__control:checked~label.sk-toggleable__label-arrow:before {content: \"▾\";}#sk-container-id-2 div.sk-estimator input.sk-toggleable__control:checked~label.sk-toggleable__label {background-color: #d4ebff;}#sk-container-id-2 div.sk-label input.sk-toggleable__control:checked~label.sk-toggleable__label {background-color: #d4ebff;}#sk-container-id-2 input.sk-hidden--visually {border: 0;clip: rect(1px 1px 1px 1px);clip: rect(1px, 1px, 1px, 1px);height: 1px;margin: -1px;overflow: hidden;padding: 0;position: absolute;width: 1px;}#sk-container-id-2 div.sk-estimator {font-family: monospace;background-color: #f0f8ff;border: 1px dotted black;border-radius: 0.25em;box-sizing: border-box;margin-bottom: 0.5em;}#sk-container-id-2 div.sk-estimator:hover {background-color: #d4ebff;}#sk-container-id-2 div.sk-parallel-item::after {content: \"\";width: 100%;border-bottom: 1px solid gray;flex-grow: 1;}#sk-container-id-2 div.sk-label:hover label.sk-toggleable__label {background-color: #d4ebff;}#sk-container-id-2 div.sk-serial::before {content: \"\";position: absolute;border-left: 1px solid gray;box-sizing: border-box;top: 0;bottom: 0;left: 50%;z-index: 0;}#sk-container-id-2 div.sk-serial {display: flex;flex-direction: column;align-items: center;background-color: white;padding-right: 0.2em;padding-left: 0.2em;position: relative;}#sk-container-id-2 div.sk-item {position: relative;z-index: 1;}#sk-container-id-2 div.sk-parallel {display: flex;align-items: stretch;justify-content: center;background-color: white;position: relative;}#sk-container-id-2 div.sk-item::before, #sk-container-id-2 div.sk-parallel-item::before {content: \"\";position: absolute;border-left: 1px solid gray;box-sizing: border-box;top: 0;bottom: 0;left: 50%;z-index: -1;}#sk-container-id-2 div.sk-parallel-item {display: flex;flex-direction: column;z-index: 1;position: relative;background-color: white;}#sk-container-id-2 div.sk-parallel-item:first-child::after {align-self: flex-end;width: 50%;}#sk-container-id-2 div.sk-parallel-item:last-child::after {align-self: flex-start;width: 50%;}#sk-container-id-2 div.sk-parallel-item:only-child::after {width: 0;}#sk-container-id-2 div.sk-dashed-wrapped {border: 1px dashed gray;margin: 0 0.4em 0.5em 0.4em;box-sizing: border-box;padding-bottom: 0.4em;background-color: white;}#sk-container-id-2 div.sk-label label {font-family: monospace;font-weight: bold;display: inline-block;line-height: 1.2em;}#sk-container-id-2 div.sk-label-container {text-align: center;}#sk-container-id-2 div.sk-container {/* jupyter's `normalize.less` sets `[hidden] { display: none; }` but bootstrap.min.css set `[hidden] { display: none !important; }` so we also need the `!important` here to be able to override the default hidden behavior on the sphinx rendered scikit-learn.org. See: https://github.com/scikit-learn/scikit-learn/issues/21755 */display: inline-block !important;position: relative;}#sk-container-id-2 div.sk-text-repr-fallback {display: none;}</style><div id=\"sk-container-id-2\" class=\"sk-top-container\"><div class=\"sk-text-repr-fallback\"><pre>SGDRegressor(eta0=0.1, max_iter=5000, verbose=1)</pre><b>In a Jupyter environment, please rerun this cell to show the HTML representation or trust the notebook. <br />On GitHub, the HTML representation is unable to render, please try loading this page with nbviewer.org.</b></div><div class=\"sk-container\" hidden><div class=\"sk-item\"><div class=\"sk-estimator sk-toggleable\"><input class=\"sk-toggleable__control sk-hidden--visually\" id=\"sk-estimator-id-2\" type=\"checkbox\" checked><label for=\"sk-estimator-id-2\" class=\"sk-toggleable__label sk-toggleable__label-arrow\">SGDRegressor</label><div class=\"sk-toggleable__content\"><pre>SGDRegressor(eta0=0.1, max_iter=5000, verbose=1)</pre></div></div></div></div></div>"
      ],
      "text/plain": [
       "SGDRegressor(eta0=0.1, max_iter=5000, verbose=1)"
      ]
     },
     "execution_count": 21,
     "metadata": {},
     "output_type": "execute_result"
    }
   ],
   "source": [
    "# 학습\n",
    "sgd_model.fit(X,y)"
   ]
  },
  {
   "cell_type": "code",
   "execution_count": 22,
   "id": "c095434f",
   "metadata": {},
   "outputs": [
    {
     "name": "stderr",
     "output_type": "stream",
     "text": [
      "C:\\Users\\SeeUSoon\\anaconda3\\Lib\\site-packages\\sklearn\\base.py:439: UserWarning: X does not have valid feature names, but SGDRegressor was fitted with feature names\n",
      "  warnings.warn(\n"
     ]
    },
    {
     "data": {
      "text/plain": [
       "array([69.14612187])"
      ]
     },
     "execution_count": 22,
     "metadata": {},
     "output_type": "execute_result"
    }
   ],
   "source": [
    "# 예측\n",
    "sgd_model.predict([[7]])"
   ]
  },
  {
   "cell_type": "code",
   "execution_count": 23,
   "id": "ee636da7",
   "metadata": {},
   "outputs": [
    {
     "name": "stdout",
     "output_type": "stream",
     "text": [
      "[10.15904508]\n",
      "[-1.96719371]\n"
     ]
    }
   ],
   "source": [
    "# w 값 확인 (모델명.coef_)\n",
    "# b 값 확인 (모델명.intercept)\n",
    "print(sgd_model.coef_)\n",
    "print(sgd_model.intercept_)"
   ]
  },
  {
   "cell_type": "code",
   "execution_count": null,
   "id": "967249d2",
   "metadata": {},
   "outputs": [],
   "source": []
  },
  {
   "cell_type": "code",
   "execution_count": null,
   "id": "7883b084",
   "metadata": {},
   "outputs": [],
   "source": []
  },
  {
   "cell_type": "code",
   "execution_count": null,
   "id": "caca6408",
   "metadata": {},
   "outputs": [],
   "source": []
  },
  {
   "cell_type": "code",
   "execution_count": null,
   "id": "9e048fd8",
   "metadata": {},
   "outputs": [],
   "source": []
  },
  {
   "cell_type": "code",
   "execution_count": null,
   "id": "09857852",
   "metadata": {},
   "outputs": [],
   "source": []
  },
  {
   "cell_type": "code",
   "execution_count": null,
   "id": "c62ecea7",
   "metadata": {},
   "outputs": [],
   "source": []
  },
  {
   "cell_type": "code",
   "execution_count": null,
   "id": "4705b72b",
   "metadata": {},
   "outputs": [],
   "source": []
  }
 ],
 "metadata": {
  "kernelspec": {
   "display_name": "Python 3 (ipykernel)",
   "language": "python",
   "name": "python3"
  },
  "language_info": {
   "codemirror_mode": {
    "name": "ipython",
    "version": 3
   },
   "file_extension": ".py",
   "mimetype": "text/x-python",
   "name": "python",
   "nbconvert_exporter": "python",
   "pygments_lexer": "ipython3",
   "version": "3.11.4"
  }
 },
 "nbformat": 4,
 "nbformat_minor": 5
}
