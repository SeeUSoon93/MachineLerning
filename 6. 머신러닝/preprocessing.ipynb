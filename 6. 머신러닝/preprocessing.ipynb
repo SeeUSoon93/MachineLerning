{
 "cells": [
  {
   "cell_type": "code",
   "execution_count": null,
   "id": "a182eef5",
   "metadata": {},
   "outputs": [],
   "source": [
    "# 등장 빈도 기준 정제 함수 정의\n",
    "def clean_by_freq(tokenized_words, freq):\n",
    "    from collections import Counter\n",
    "    # 1. Counter 함수를 통해 단어의 빈도수를 카운트하여 단어 집합 생성\n",
    "    # Vocab 이라는 변수에 담기\n",
    "    vocab = Counter(tokenized_words)\n",
    "    \n",
    "    # 2. 빈도수가 freq 이하인 단어 추출\n",
    "    # low_freq_words 라는 변수에 담기\n",
    "    low_freq_words = []\n",
    "    for k,v in vocab.items() :\n",
    "        if v <= freq :\n",
    "            low_freq_words.append(k)\n",
    "            \n",
    "    # 3. low_freq_words 에 포함되지 않는 단어 리스트 생성\n",
    "    # cleaned_words 라는 변수에 담기\n",
    "    cleaned_words=[]\n",
    "    for k,v in vocab.items() :\n",
    "        if k not in low_freq_words :\n",
    "            cleaned_words.append(k)\n",
    "    return cleaned_words\n",
    "# 단어 길이 기준 정제 함수\n",
    "def cleane_by_len(tokenized_words, length):\n",
    "    cleaned_by_freq_len = []\n",
    "    for i in tokenized_words :\n",
    "        if len(i) >= length :\n",
    "            cleaned_by_freq_len.append(i)\n",
    "    return cleaned_by_freq_len"
   ]
  },
  {
   "cell_type": "code",
   "execution_count": null,
   "id": "f484c1f9",
   "metadata": {},
   "outputs": [],
   "source": [
    "# 불용어 제거 함수 만들기\n",
    "def clean_by_stopwords(tokenized_words, stopwords_set):\n",
    "    cleaned_word = []\n",
    "    for word in tokenized_words :\n",
    "        if word not in stopwords_set :\n",
    "            cleaned_word.append(word)\n",
    "    return cleaned_word\n",
    "from nltk.stem import PorterStemmer"
   ]
  },
  {
   "cell_type": "code",
   "execution_count": null,
   "id": "e468cc08",
   "metadata": {},
   "outputs": [],
   "source": [
    "#포터스테머 어간 추출함수\n",
    "def stemming_by_porter(tokenized_words):\n",
    "    porter_stemmer = PorterStemmer()\n",
    "    porter_stemmer_words = []\n",
    "    for i in tokenized_words :\n",
    "        word = porter_stemmer.stem(i)\n",
    "        porter_stemmer_words.append(word)    \n",
    "    return porter_stemmer_words\n",
    "\n",
    "from nltk.tokenize import word_tokenize\n",
    "from nltk.tokenize import sent_tokenize\n",
    "from nltk.tag import pos_tag"
   ]
  },
  {
   "cell_type": "code",
   "execution_count": null,
   "id": "f2c874d8",
   "metadata": {},
   "outputs": [],
   "source": [
    "# 품사 태깅 함수 정의\n",
    "def pos_tagger(tokenized_sents):        \n",
    "    pos_tagged_words = []\n",
    "    for sentence in tokenized_sents:\n",
    "        # 단어 토큰화\n",
    "        tokenized_words = word_tokenize(sentence)\n",
    "        # 품사 태깅\n",
    "        pos_tagged = pos_tag(tokenized_words)    \n",
    "        # 품사태깅한 데이터 담아주기(extend)\n",
    "        pos_tagged_words.extend(pos_tagged)\n",
    "    return pos_tagged_words"
   ]
  },
  {
   "cell_type": "code",
   "execution_count": null,
   "id": "46bf8be2",
   "metadata": {},
   "outputs": [],
   "source": [
    "# pennTreePosTag를 WordNetPosTag로 변환\n",
    "def penn_to_wn(tag):\n",
    "    if tag.startswith('J'):\n",
    "        return wn.ADJ\n",
    "    elif tag.startswith('N'):\n",
    "         return wn.NOUN\n",
    "    elif tag.startswith('R'):\n",
    "         return wn.ADV\n",
    "    elif tag.startswith('V'):\n",
    "         return wn.VERB\n",
    "# pennTreePosTag를 WordNetPosTag로 변환\n",
    "def penn_to_wn(tag):\n",
    "    if tag.startswith('J'):\n",
    "        return wn.ADJ\n",
    "    elif tag.startswith('N'):\n",
    "         return wn.NOUN\n",
    "    elif tag.startswith('R'):\n",
    "         return wn.ADV\n",
    "    elif tag.startswith('V'):\n",
    "         return wn.VERB\n",
    "    else:\n",
    "        return"
   ]
  },
  {
   "cell_type": "code",
   "execution_count": 1,
   "id": "d3807b7a",
   "metadata": {},
   "outputs": [],
   "source": [
    "    \n",
    "def words_lemmatizer(pos_tagged_words):\n",
    "    lemmatizer = WordNetLemmatizer()\n",
    "    lemmatized_words = []\n",
    "\n",
    "    for word, tag in pos_tagged_words:\n",
    "        # WordNet pos Tag로 변환하는 함수 호출\n",
    "        wn_tag = penn_to_wn(tag)\n",
    "\n",
    "        # 품사를 기준으로 표제어 추출\n",
    "        if wn_tag in (wn.NOUN, wn.ADJ, wn.ADV, wn.VERB):\n",
    "            lemmatized_words.append(lemmatizer.lemmatize(word, wn_tag)) # 표제어 추출함수\n",
    "        else :\n",
    "            lemmatized_words.append(word)"
   ]
  },
  {
   "cell_type": "code",
   "execution_count": null,
   "id": "da3436d7",
   "metadata": {},
   "outputs": [],
   "source": []
  }
 ],
 "metadata": {
  "kernelspec": {
   "display_name": "Python 3 (ipykernel)",
   "language": "python",
   "name": "python3"
  },
  "language_info": {
   "codemirror_mode": {
    "name": "ipython",
    "version": 3
   },
   "file_extension": ".py",
   "mimetype": "text/x-python",
   "name": "python",
   "nbconvert_exporter": "python",
   "pygments_lexer": "ipython3",
   "version": "3.11.4"
  }
 },
 "nbformat": 4,
 "nbformat_minor": 5
}
